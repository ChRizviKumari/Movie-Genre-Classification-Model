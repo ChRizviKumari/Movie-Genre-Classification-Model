{
  "nbformat": 4,
  "nbformat_minor": 0,
  "metadata": {
    "colab": {
      "provenance": []
    },
    "kernelspec": {
      "name": "python3",
      "display_name": "Python 3"
    },
    "language_info": {
      "name": "python"
    }
  },
  "cells": [
    {
      "cell_type": "code",
      "execution_count": null,
      "metadata": {
        "colab": {
          "base_uri": "https://localhost:8080/"
        },
        "id": "LAS9t2qtszpr",
        "outputId": "66b9333e-dcae-4f2f-cb43-f87c8057d1f8"
      },
      "outputs": [
        {
          "output_type": "stream",
          "name": "stdout",
          "text": [
            "      genre                                        description\n",
            "0     drama  Listening in to a conversation between his doc...\n",
            "1  thriller  A brother and sister with a past incestuous re...\n",
            "2     adult  As the bus empties the students for their fiel...\n",
            "3     drama  To help their unemployed father make ends meet...\n",
            "4     drama  The film's title refers not only to the un-rec...\n",
            "                                         description        genre\n",
            "0  L.R. Brane loves his life - his car, his apart...     thriller\n",
            "1  Spain, March 1964: Quico is a very naughty chi...       comedy\n",
            "2  One year in the life of Albin and his family o...  documentary\n",
            "3  His father has died, he hasn't spoken with his...        drama\n",
            "4  Before he was known internationally as a marti...        drama\n"
          ]
        }
      ],
      "source": [
        "import pandas as pd\n",
        "from sklearn.feature_extraction.text import TfidfVectorizer\n",
        "from sklearn.naive_bayes import MultinomialNB\n",
        "from sklearn.linear_model import LogisticRegression\n",
        "from sklearn.svm import SVC\n",
        "from sklearn.metrics import classification_report, accuracy_score\n",
        "\n",
        "# Function to parse the training and test data files\n",
        "def parse_train_file(filename):\n",
        "    data = []\n",
        "    with open(filename, 'r', encoding='utf-8') as file:\n",
        "        for line in file:\n",
        "            parts = line.strip().split(' ::: ')\n",
        "            if len(parts) == 4:\n",
        "                data.append((parts[2], parts[3]))  # genre, description\n",
        "    return data\n",
        "\n",
        "def parse_test_file(filename):\n",
        "    data = []\n",
        "    with open(filename, 'r', encoding='utf-8') as file:\n",
        "        for line in file:\n",
        "            parts = line.strip().split(' ::: ')\n",
        "            if len(parts) == 3:\n",
        "                data.append(parts[2])  # description only\n",
        "    return data\n",
        "\n",
        "def parse_test_solution_file(filename):\n",
        "    data = []\n",
        "    with open(filename, 'r', encoding='utf-8') as file:\n",
        "        for line in file:\n",
        "            parts = line.strip().split(' ::: ')\n",
        "            if len(parts) == 4:\n",
        "                data.append(parts[2])  # genre only\n",
        "    return data\n",
        "\n",
        "# Load training data\n",
        "train_data = parse_train_file('train_data.txt')\n",
        "\n",
        "# Load test data\n",
        "test_data = parse_test_file('test_data.txt')\n",
        "test_solutions = parse_test_solution_file('test_data_solution.txt')\n",
        "\n",
        "# Convert to DataFrame\n",
        "train_df = pd.DataFrame(train_data, columns=['genre', 'description'])\n",
        "test_df = pd.DataFrame({'description': test_data, 'genre': test_solutions})\n",
        "\n",
        "# Display first few rows of training data\n",
        "print(train_df.head())\n",
        "print(test_df.head())\n"
      ]
    },
    {
      "cell_type": "code",
      "source": [
        "# TF-IDF Vectorization\n",
        "vectorizer = TfidfVectorizer(stop_words='english', max_df=0.7)\n",
        "\n",
        "# Fit and transform the training data\n",
        "X_train_tfidf = vectorizer.fit_transform(train_df['description'])\n",
        "\n",
        "# Transform the test data\n",
        "X_test_tfidf = vectorizer.transform(test_df['description'])\n"
      ],
      "metadata": {
        "id": "oYoB2ONYtIpu"
      },
      "execution_count": null,
      "outputs": []
    },
    {
      "cell_type": "code",
      "source": [
        "# Naive Bayes\n",
        "nb_model = MultinomialNB()\n",
        "nb_model.fit(X_train_tfidf, train_df['genre'])\n",
        "\n",
        "# Predict\n",
        "nb_predictions = nb_model.predict(X_test_tfidf)\n",
        "\n",
        "# Evaluate\n",
        "print(\"Naive Bayes Accuracy:\", accuracy_score(test_df['genre'], nb_predictions))\n",
        "print(classification_report(test_df['genre'], nb_predictions))\n",
        "\n",
        "# Logistic Regression\n",
        "lr_model = LogisticRegression(max_iter=1000)\n",
        "lr_model.fit(X_train_tfidf, train_df['genre'])\n",
        "\n",
        "# Predict\n",
        "lr_predictions = lr_model.predict(X_test_tfidf)\n",
        "\n",
        "# Evaluate\n",
        "print(\"Logistic Regression Accuracy:\", accuracy_score(test_df['genre'], lr_predictions))\n",
        "print(classification_report(test_df['genre'], lr_predictions))\n",
        "\n",
        "# Support Vector Machine\n",
        "svm_model = SVC(kernel='linear')\n",
        "svm_model.fit(X_train_tfidf, train_df['genre'])\n",
        "\n",
        "# Predict\n",
        "svm_predictions = svm_model.predict(X_test_tfidf)\n",
        "\n",
        "# Evaluate\n",
        "print(\"SVM Accuracy:\", accuracy_score(test_df['genre'], svm_predictions))\n",
        "print(classification_report(test_df['genre'], svm_predictions))"
      ],
      "metadata": {
        "colab": {
          "base_uri": "https://localhost:8080/"
        },
        "id": "m6hhvHurv7sK",
        "outputId": "a7237557-0258-4c19-885c-2850c721c8ab"
      },
      "execution_count": null,
      "outputs": [
        {
          "output_type": "stream",
          "name": "stdout",
          "text": [
            "Naive Bayes Accuracy: 0.44474169741697417\n"
          ]
        },
        {
          "output_type": "stream",
          "name": "stderr",
          "text": [
            "/usr/local/lib/python3.10/dist-packages/sklearn/metrics/_classification.py:1344: UndefinedMetricWarning: Precision and F-score are ill-defined and being set to 0.0 in labels with no predicted samples. Use `zero_division` parameter to control this behavior.\n",
            "  _warn_prf(average, modifier, msg_start, len(result))\n",
            "/usr/local/lib/python3.10/dist-packages/sklearn/metrics/_classification.py:1344: UndefinedMetricWarning: Precision and F-score are ill-defined and being set to 0.0 in labels with no predicted samples. Use `zero_division` parameter to control this behavior.\n",
            "  _warn_prf(average, modifier, msg_start, len(result))\n",
            "/usr/local/lib/python3.10/dist-packages/sklearn/metrics/_classification.py:1344: UndefinedMetricWarning: Precision and F-score are ill-defined and being set to 0.0 in labels with no predicted samples. Use `zero_division` parameter to control this behavior.\n",
            "  _warn_prf(average, modifier, msg_start, len(result))\n"
          ]
        },
        {
          "output_type": "stream",
          "name": "stdout",
          "text": [
            "              precision    recall  f1-score   support\n",
            "\n",
            "      action       0.00      0.00      0.00      1314\n",
            "       adult       0.00      0.00      0.00       590\n",
            "   adventure       0.00      0.00      0.00       775\n",
            "   animation       0.00      0.00      0.00       498\n",
            "   biography       0.00      0.00      0.00       264\n",
            "      comedy       0.72      0.05      0.09      7446\n",
            "       crime       0.00      0.00      0.00       505\n",
            " documentary       0.53      0.90      0.66     13096\n",
            "       drama       0.38      0.88      0.53     13612\n",
            "      family       0.00      0.00      0.00       783\n",
            "     fantasy       0.00      0.00      0.00       322\n",
            "   game-show       0.00      0.00      0.00       193\n",
            "     history       0.00      0.00      0.00       243\n",
            "      horror       0.00      0.00      0.00      2204\n",
            "       music       0.00      0.00      0.00       731\n",
            "     musical       0.00      0.00      0.00       276\n",
            "     mystery       0.00      0.00      0.00       318\n",
            "        news       0.00      0.00      0.00       181\n",
            "  reality-tv       0.00      0.00      0.00       883\n",
            "     romance       0.00      0.00      0.00       672\n",
            "      sci-fi       0.00      0.00      0.00       646\n",
            "       short       1.00      0.00      0.01      5072\n",
            "       sport       0.00      0.00      0.00       431\n",
            "   talk-show       0.00      0.00      0.00       391\n",
            "    thriller       0.00      0.00      0.00      1590\n",
            "         war       0.00      0.00      0.00       132\n",
            "     western       1.00      0.00      0.00      1032\n",
            "\n",
            "    accuracy                           0.44     54200\n",
            "   macro avg       0.13      0.07      0.05     54200\n",
            "weighted avg       0.43      0.44      0.31     54200\n",
            "\n",
            "Logistic Regression Accuracy: 0.5883025830258303\n"
          ]
        },
        {
          "output_type": "stream",
          "name": "stderr",
          "text": [
            "/usr/local/lib/python3.10/dist-packages/sklearn/metrics/_classification.py:1344: UndefinedMetricWarning: Precision and F-score are ill-defined and being set to 0.0 in labels with no predicted samples. Use `zero_division` parameter to control this behavior.\n",
            "  _warn_prf(average, modifier, msg_start, len(result))\n",
            "/usr/local/lib/python3.10/dist-packages/sklearn/metrics/_classification.py:1344: UndefinedMetricWarning: Precision and F-score are ill-defined and being set to 0.0 in labels with no predicted samples. Use `zero_division` parameter to control this behavior.\n",
            "  _warn_prf(average, modifier, msg_start, len(result))\n",
            "/usr/local/lib/python3.10/dist-packages/sklearn/metrics/_classification.py:1344: UndefinedMetricWarning: Precision and F-score are ill-defined and being set to 0.0 in labels with no predicted samples. Use `zero_division` parameter to control this behavior.\n",
            "  _warn_prf(average, modifier, msg_start, len(result))\n"
          ]
        },
        {
          "output_type": "stream",
          "name": "stdout",
          "text": [
            "              precision    recall  f1-score   support\n",
            "\n",
            "      action       0.52      0.26      0.35      1314\n",
            "       adult       0.62      0.21      0.31       590\n",
            "   adventure       0.69      0.14      0.24       775\n",
            "   animation       0.60      0.02      0.05       498\n",
            "   biography       0.00      0.00      0.00       264\n",
            "      comedy       0.55      0.59      0.57      7446\n",
            "       crime       0.42      0.02      0.04       505\n",
            " documentary       0.66      0.87      0.75     13096\n",
            "       drama       0.54      0.80      0.64     13612\n",
            "      family       0.58      0.08      0.14       783\n",
            "     fantasy       0.71      0.02      0.03       322\n",
            "   game-show       0.93      0.48      0.63       193\n",
            "     history       0.00      0.00      0.00       243\n",
            "      horror       0.66      0.57      0.61      2204\n",
            "       music       0.70      0.39      0.50       731\n",
            "     musical       1.00      0.01      0.01       276\n",
            "     mystery       1.00      0.00      0.01       318\n",
            "        news       0.80      0.04      0.08       181\n",
            "  reality-tv       0.53      0.14      0.22       883\n",
            "     romance       0.44      0.01      0.02       672\n",
            "      sci-fi       0.63      0.22      0.32       646\n",
            "       short       0.51      0.31      0.39      5072\n",
            "       sport       0.79      0.21      0.33       431\n",
            "   talk-show       0.70      0.12      0.20       391\n",
            "    thriller       0.41      0.11      0.17      1590\n",
            "         war       1.00      0.01      0.02       132\n",
            "     western       0.93      0.70      0.80      1032\n",
            "\n",
            "    accuracy                           0.59     54200\n",
            "   macro avg       0.63      0.23      0.27     54200\n",
            "weighted avg       0.59      0.59      0.54     54200\n",
            "\n",
            "SVM Accuracy: 0.6023247232472325\n"
          ]
        },
        {
          "output_type": "stream",
          "name": "stderr",
          "text": [
            "/usr/local/lib/python3.10/dist-packages/sklearn/metrics/_classification.py:1344: UndefinedMetricWarning: Precision and F-score are ill-defined and being set to 0.0 in labels with no predicted samples. Use `zero_division` parameter to control this behavior.\n",
            "  _warn_prf(average, modifier, msg_start, len(result))\n",
            "/usr/local/lib/python3.10/dist-packages/sklearn/metrics/_classification.py:1344: UndefinedMetricWarning: Precision and F-score are ill-defined and being set to 0.0 in labels with no predicted samples. Use `zero_division` parameter to control this behavior.\n",
            "  _warn_prf(average, modifier, msg_start, len(result))\n"
          ]
        },
        {
          "output_type": "stream",
          "name": "stdout",
          "text": [
            "              precision    recall  f1-score   support\n",
            "\n",
            "      action       0.48      0.36      0.41      1314\n",
            "       adult       0.64      0.41      0.50       590\n",
            "   adventure       0.60      0.23      0.33       775\n",
            "   animation       0.49      0.11      0.18       498\n",
            "   biography       0.00      0.00      0.00       264\n",
            "      comedy       0.55      0.60      0.58      7446\n",
            "       crime       0.32      0.04      0.07       505\n",
            " documentary       0.69      0.86      0.76     13096\n",
            "       drama       0.55      0.78      0.65     13612\n",
            "      family       0.51      0.12      0.19       783\n",
            "     fantasy       0.37      0.06      0.10       322\n",
            "   game-show       0.85      0.63      0.72       193\n",
            "     history       0.00      0.00      0.00       243\n",
            "      horror       0.66      0.62      0.64      2204\n",
            "       music       0.69      0.51      0.59       731\n",
            "     musical       0.32      0.02      0.04       276\n",
            "     mystery       0.50      0.02      0.04       318\n",
            "        news       0.64      0.08      0.14       181\n",
            "  reality-tv       0.54      0.22      0.31       883\n",
            "     romance       0.56      0.01      0.01       672\n",
            "      sci-fi       0.57      0.34      0.42       646\n",
            "       short       0.51      0.32      0.40      5072\n",
            "       sport       0.73      0.35      0.47       431\n",
            "   talk-show       0.63      0.24      0.35       391\n",
            "    thriller       0.39      0.15      0.21      1590\n",
            "         war       1.00      0.04      0.07       132\n",
            "     western       0.91      0.80      0.85      1032\n",
            "\n",
            "    accuracy                           0.60     54200\n",
            "   macro avg       0.54      0.29      0.34     54200\n",
            "weighted avg       0.58      0.60      0.57     54200\n",
            "\n"
          ]
        },
        {
          "output_type": "stream",
          "name": "stderr",
          "text": [
            "/usr/local/lib/python3.10/dist-packages/sklearn/metrics/_classification.py:1344: UndefinedMetricWarning: Precision and F-score are ill-defined and being set to 0.0 in labels with no predicted samples. Use `zero_division` parameter to control this behavior.\n",
            "  _warn_prf(average, modifier, msg_start, len(result))\n"
          ]
        }
      ]
    },
    {
      "cell_type": "code",
      "source": [
        "# Evaluate all models\n",
        "models = {\n",
        "    'Naive Bayes': (nb_model, nb_predictions),\n",
        "    'Logistic Regression': (lr_model, lr_predictions),\n",
        "    'Support Vector Machine': (svm_model, svm_predictions)\n",
        "}\n",
        "\n",
        "for model_name, (model, predictions) in models.items():\n",
        "    print(f\"=== {model_name} ===\")\n",
        "    print(f\"Accuracy: {accuracy_score(test_df['genre'], predictions)}\")\n",
        "    print(classification_report(test_df['genre'], predictions))\n",
        "    print()"
      ],
      "metadata": {
        "colab": {
          "base_uri": "https://localhost:8080/"
        },
        "id": "xj1rP0ag86ZA",
        "outputId": "8b4b8ab9-3455-41be-84c8-5c65b4e0bad6"
      },
      "execution_count": null,
      "outputs": [
        {
          "output_type": "stream",
          "name": "stdout",
          "text": [
            "=== Naive Bayes ===\n",
            "Accuracy: 0.44474169741697417\n"
          ]
        },
        {
          "output_type": "stream",
          "name": "stderr",
          "text": [
            "/usr/local/lib/python3.10/dist-packages/sklearn/metrics/_classification.py:1344: UndefinedMetricWarning: Precision and F-score are ill-defined and being set to 0.0 in labels with no predicted samples. Use `zero_division` parameter to control this behavior.\n",
            "  _warn_prf(average, modifier, msg_start, len(result))\n",
            "/usr/local/lib/python3.10/dist-packages/sklearn/metrics/_classification.py:1344: UndefinedMetricWarning: Precision and F-score are ill-defined and being set to 0.0 in labels with no predicted samples. Use `zero_division` parameter to control this behavior.\n",
            "  _warn_prf(average, modifier, msg_start, len(result))\n",
            "/usr/local/lib/python3.10/dist-packages/sklearn/metrics/_classification.py:1344: UndefinedMetricWarning: Precision and F-score are ill-defined and being set to 0.0 in labels with no predicted samples. Use `zero_division` parameter to control this behavior.\n",
            "  _warn_prf(average, modifier, msg_start, len(result))\n"
          ]
        },
        {
          "output_type": "stream",
          "name": "stdout",
          "text": [
            "              precision    recall  f1-score   support\n",
            "\n",
            "      action       0.00      0.00      0.00      1314\n",
            "       adult       0.00      0.00      0.00       590\n",
            "   adventure       0.00      0.00      0.00       775\n",
            "   animation       0.00      0.00      0.00       498\n",
            "   biography       0.00      0.00      0.00       264\n",
            "      comedy       0.72      0.05      0.09      7446\n",
            "       crime       0.00      0.00      0.00       505\n",
            " documentary       0.53      0.90      0.66     13096\n",
            "       drama       0.38      0.88      0.53     13612\n",
            "      family       0.00      0.00      0.00       783\n",
            "     fantasy       0.00      0.00      0.00       322\n",
            "   game-show       0.00      0.00      0.00       193\n",
            "     history       0.00      0.00      0.00       243\n",
            "      horror       0.00      0.00      0.00      2204\n",
            "       music       0.00      0.00      0.00       731\n",
            "     musical       0.00      0.00      0.00       276\n",
            "     mystery       0.00      0.00      0.00       318\n",
            "        news       0.00      0.00      0.00       181\n",
            "  reality-tv       0.00      0.00      0.00       883\n",
            "     romance       0.00      0.00      0.00       672\n",
            "      sci-fi       0.00      0.00      0.00       646\n",
            "       short       1.00      0.00      0.01      5072\n",
            "       sport       0.00      0.00      0.00       431\n",
            "   talk-show       0.00      0.00      0.00       391\n",
            "    thriller       0.00      0.00      0.00      1590\n",
            "         war       0.00      0.00      0.00       132\n",
            "     western       1.00      0.00      0.00      1032\n",
            "\n",
            "    accuracy                           0.44     54200\n",
            "   macro avg       0.13      0.07      0.05     54200\n",
            "weighted avg       0.43      0.44      0.31     54200\n",
            "\n",
            "\n",
            "=== Logistic Regression ===\n",
            "Accuracy: 0.5883025830258303\n"
          ]
        },
        {
          "output_type": "stream",
          "name": "stderr",
          "text": [
            "/usr/local/lib/python3.10/dist-packages/sklearn/metrics/_classification.py:1344: UndefinedMetricWarning: Precision and F-score are ill-defined and being set to 0.0 in labels with no predicted samples. Use `zero_division` parameter to control this behavior.\n",
            "  _warn_prf(average, modifier, msg_start, len(result))\n",
            "/usr/local/lib/python3.10/dist-packages/sklearn/metrics/_classification.py:1344: UndefinedMetricWarning: Precision and F-score are ill-defined and being set to 0.0 in labels with no predicted samples. Use `zero_division` parameter to control this behavior.\n",
            "  _warn_prf(average, modifier, msg_start, len(result))\n",
            "/usr/local/lib/python3.10/dist-packages/sklearn/metrics/_classification.py:1344: UndefinedMetricWarning: Precision and F-score are ill-defined and being set to 0.0 in labels with no predicted samples. Use `zero_division` parameter to control this behavior.\n",
            "  _warn_prf(average, modifier, msg_start, len(result))\n"
          ]
        },
        {
          "output_type": "stream",
          "name": "stdout",
          "text": [
            "              precision    recall  f1-score   support\n",
            "\n",
            "      action       0.52      0.26      0.35      1314\n",
            "       adult       0.62      0.21      0.31       590\n",
            "   adventure       0.69      0.14      0.24       775\n",
            "   animation       0.60      0.02      0.05       498\n",
            "   biography       0.00      0.00      0.00       264\n",
            "      comedy       0.55      0.59      0.57      7446\n",
            "       crime       0.42      0.02      0.04       505\n",
            " documentary       0.66      0.87      0.75     13096\n",
            "       drama       0.54      0.80      0.64     13612\n",
            "      family       0.58      0.08      0.14       783\n",
            "     fantasy       0.71      0.02      0.03       322\n",
            "   game-show       0.93      0.48      0.63       193\n",
            "     history       0.00      0.00      0.00       243\n",
            "      horror       0.66      0.57      0.61      2204\n",
            "       music       0.70      0.39      0.50       731\n",
            "     musical       1.00      0.01      0.01       276\n",
            "     mystery       1.00      0.00      0.01       318\n",
            "        news       0.80      0.04      0.08       181\n",
            "  reality-tv       0.53      0.14      0.22       883\n",
            "     romance       0.44      0.01      0.02       672\n",
            "      sci-fi       0.63      0.22      0.32       646\n",
            "       short       0.51      0.31      0.39      5072\n",
            "       sport       0.79      0.21      0.33       431\n",
            "   talk-show       0.70      0.12      0.20       391\n",
            "    thriller       0.41      0.11      0.17      1590\n",
            "         war       1.00      0.01      0.02       132\n",
            "     western       0.93      0.70      0.80      1032\n",
            "\n",
            "    accuracy                           0.59     54200\n",
            "   macro avg       0.63      0.23      0.27     54200\n",
            "weighted avg       0.59      0.59      0.54     54200\n",
            "\n",
            "\n",
            "=== Support Vector Machine ===\n",
            "Accuracy: 0.6023247232472325\n"
          ]
        },
        {
          "output_type": "stream",
          "name": "stderr",
          "text": [
            "/usr/local/lib/python3.10/dist-packages/sklearn/metrics/_classification.py:1344: UndefinedMetricWarning: Precision and F-score are ill-defined and being set to 0.0 in labels with no predicted samples. Use `zero_division` parameter to control this behavior.\n",
            "  _warn_prf(average, modifier, msg_start, len(result))\n",
            "/usr/local/lib/python3.10/dist-packages/sklearn/metrics/_classification.py:1344: UndefinedMetricWarning: Precision and F-score are ill-defined and being set to 0.0 in labels with no predicted samples. Use `zero_division` parameter to control this behavior.\n",
            "  _warn_prf(average, modifier, msg_start, len(result))\n"
          ]
        },
        {
          "output_type": "stream",
          "name": "stdout",
          "text": [
            "              precision    recall  f1-score   support\n",
            "\n",
            "      action       0.48      0.36      0.41      1314\n",
            "       adult       0.64      0.41      0.50       590\n",
            "   adventure       0.60      0.23      0.33       775\n",
            "   animation       0.49      0.11      0.18       498\n",
            "   biography       0.00      0.00      0.00       264\n",
            "      comedy       0.55      0.60      0.58      7446\n",
            "       crime       0.32      0.04      0.07       505\n",
            " documentary       0.69      0.86      0.76     13096\n",
            "       drama       0.55      0.78      0.65     13612\n",
            "      family       0.51      0.12      0.19       783\n",
            "     fantasy       0.37      0.06      0.10       322\n",
            "   game-show       0.85      0.63      0.72       193\n",
            "     history       0.00      0.00      0.00       243\n",
            "      horror       0.66      0.62      0.64      2204\n",
            "       music       0.69      0.51      0.59       731\n",
            "     musical       0.32      0.02      0.04       276\n",
            "     mystery       0.50      0.02      0.04       318\n",
            "        news       0.64      0.08      0.14       181\n",
            "  reality-tv       0.54      0.22      0.31       883\n",
            "     romance       0.56      0.01      0.01       672\n",
            "      sci-fi       0.57      0.34      0.42       646\n",
            "       short       0.51      0.32      0.40      5072\n",
            "       sport       0.73      0.35      0.47       431\n",
            "   talk-show       0.63      0.24      0.35       391\n",
            "    thriller       0.39      0.15      0.21      1590\n",
            "         war       1.00      0.04      0.07       132\n",
            "     western       0.91      0.80      0.85      1032\n",
            "\n",
            "    accuracy                           0.60     54200\n",
            "   macro avg       0.54      0.29      0.34     54200\n",
            "weighted avg       0.58      0.60      0.57     54200\n",
            "\n",
            "\n"
          ]
        },
        {
          "output_type": "stream",
          "name": "stderr",
          "text": [
            "/usr/local/lib/python3.10/dist-packages/sklearn/metrics/_classification.py:1344: UndefinedMetricWarning: Precision and F-score are ill-defined and being set to 0.0 in labels with no predicted samples. Use `zero_division` parameter to control this behavior.\n",
            "  _warn_prf(average, modifier, msg_start, len(result))\n"
          ]
        }
      ]
    },
    {
      "cell_type": "code",
      "source": [],
      "metadata": {
        "id": "a4KIB-IsUGJ8"
      },
      "execution_count": null,
      "outputs": []
    }
  ]
}